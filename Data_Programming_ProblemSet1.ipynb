{
 "cells": [
  {
   "cell_type": "markdown",
   "id": "aa993e07",
   "metadata": {},
   "source": [
    "# Data Programming Problem Set 1"
   ]
  },
  {
   "cell_type": "markdown",
   "id": "df2a11ee",
   "metadata": {},
   "source": [
    "# Question 1\n",
    "## What data type is each of the following (evaluate where necessary)?\n",
    "5\n",
    "5.0\n",
    "5 > 1\n",
    "'5'\n",
    "5 * 2\n",
    "'5' * 2\n",
    "'5' + '2'\n",
    "5 / 2\n",
    "5 % 2\n",
    "{5, 2, 1}\n",
    "5 == 3\n",
    "Pi (the number)"
   ]
  },
  {
   "cell_type": "code",
   "execution_count": 10,
   "id": "430d0adb",
   "metadata": {},
   "outputs": [
    {
     "name": "stdout",
     "output_type": "stream",
     "text": [
      "<class 'int'>\n",
      "<class 'float'>\n",
      "<class 'bool'>\n",
      "<class 'str'>\n",
      "<class 'int'>\n",
      "<class 'str'>\n",
      "<class 'str'>\n",
      "<class 'float'>\n",
      "<class 'int'>\n",
      "<class 'set'>\n",
      "<class 'bool'>\n",
      "<class 'float'>\n"
     ]
    }
   ],
   "source": [
    "import math\n",
    "print(type(5))\n",
    "print(type(5.0))\n",
    "print(type(5 > 1))\n",
    "print(type('5'))\n",
    "print(type(5 * 2))\n",
    "print(type('5' * 2))\n",
    "print(type('5' + '2'))\n",
    "print(type(5 / 2))\n",
    "print(type(5 % 2))\n",
    "print(type({5, 2, 1}))\n",
    "print(type(5 == 3))\n",
    "a=(math.pi)\n",
    "print(type(a)) #to know the value of pi, we first need to import the math library and find the value of pi and get the datatype\n"
   ]
  },
  {
   "cell_type": "markdown",
   "id": "60f52fea",
   "metadata": {},
   "source": [
    "# Question 2\n",
    "## Write (and evaluate) python expressions that answer these questions:\n",
    "\n",
    "## a. How many letters are there in 'Supercalifragilisticexpialidocious'?"
   ]
  },
  {
   "cell_type": "code",
   "execution_count": 12,
   "id": "518dcf82",
   "metadata": {},
   "outputs": [
    {
     "name": "stdout",
     "output_type": "stream",
     "text": [
      "34\n"
     ]
    }
   ],
   "source": [
    "a = \"Supercalifragilisticexpialidocious\"\n",
    "print(len(a)) "
   ]
  },
  {
   "cell_type": "markdown",
   "id": "7f2dc708",
   "metadata": {},
   "source": [
    "## b. Does 'Supercalifragilisticexpialidocious' contain 'ice' as a substring?"
   ]
  },
  {
   "cell_type": "code",
   "execution_count": 13,
   "id": "8c8e8eb5",
   "metadata": {},
   "outputs": [
    {
     "name": "stdout",
     "output_type": "stream",
     "text": [
      "No, there is no ice\n"
     ]
    }
   ],
   "source": [
    "b='Supercalifragilisticexpialidocious'\n",
    "if b=='ice':\n",
    "    print(\"Yes it contain ice\")\n",
    "print(\"No, there is no ice\")"
   ]
  },
  {
   "cell_type": "markdown",
   "id": "ca0ef5c0",
   "metadata": {},
   "source": [
    "## c. Which of the following words is the longest:Supercalifragilisticexpialidocious, Honorificabilitudinitatibus, or Bababadalgharaghtakamminarronnkonn?"
   ]
  },
  {
   "cell_type": "code",
   "execution_count": 15,
   "id": "57e10515",
   "metadata": {},
   "outputs": [
    {
     "name": "stdout",
     "output_type": "stream",
     "text": [
      "The longest number is:- Supercalifragilisticexpialidocious\n"
     ]
    }
   ],
   "source": [
    "#enter the words\n",
    "a='Supercalifragilisticexpialidocious'\n",
    "b='Honorificabilitudinitatibus'\n",
    "c='Bababadalgharaghtakamminarronnkonn'\n",
    "if (a > b) and (a > c):\n",
    "   longest = a\n",
    "elif (b > a) and (b > c):\n",
    "   longest = b\n",
    "else:\n",
    "   longest = c \n",
    "print(\"The longest number is:-\",longest)    "
   ]
  },
  {
   "cell_type": "markdown",
   "id": "a95c8872",
   "metadata": {},
   "source": [
    "## d. Which composer comes first in the dictionary: 'Berlioz', 'Borodin', 'Brian', 'Bartok', 'Bellini', 'Buxtehude', 'Bernstein'. Which one comes last?\n"
   ]
  },
  {
   "cell_type": "code",
   "execution_count": null,
   "id": "20870288",
   "metadata": {},
   "outputs": [],
   "source": []
  },
  {
   "cell_type": "markdown",
   "id": "8e1477de",
   "metadata": {},
   "source": [
    "# Question 3\n",
    "## Implement function triangleArea(a,b,c) that takes as input the lengths of the 3 sides of a triangle and returns the area of the triangle. By Heron's formula, the area of a triangle with side lengths a, b, and c is s(s - a)(s -b)(s -c) , where s = (a+b+c)/2\n"
   ]
  },
  {
   "cell_type": "code",
   "execution_count": 38,
   "id": "6f35cb4d",
   "metadata": {},
   "outputs": [
    {
     "name": "stdout",
     "output_type": "stream",
     "text": [
      "Enter first side: 2\n",
      "Enter second side: 2\n",
      "Enter third side: 2\n",
      "The area is 1.732051\n"
     ]
    }
   ],
   "source": [
    "#Enter the sides of triangle\n",
    "a = int(input('Enter first side: '))\n",
    "b = int(input('Enter second side: '))\n",
    "c = int(input('Enter third side: '))\n",
    "s = (a + b + c) 2\n",
    "# calculate the area\n",
    "z = (s*(s-a)*(s-b)*(s-c))**0.5\n",
    "print('The area is %f' %z)"
   ]
  },
  {
   "cell_type": "markdown",
   "id": "a4312939",
   "metadata": {},
   "source": [
    "# Question 4 \n",
    "## Write a program in python to separate odd and even integers in separate arrays."
   ]
  },
  {
   "cell_type": "code",
   "execution_count": 39,
   "id": "e1bf051c",
   "metadata": {},
   "outputs": [
    {
     "name": "stdout",
     "output_type": "stream",
     "text": [
      "Input the number of elements to be stored in the array :- 4\n",
      "Element 0:- 5\n",
      "Element 1:- 5\n",
      "Element 2:- 6\n",
      "Element 3:- 3\n",
      "Element 4:- 65\n",
      "The even elements are :  [6]\n",
      "The odd element are :  [5, 5, 3]\n"
     ]
    }
   ],
   "source": [
    "Alist = []\n",
    "Even = []\n",
    "Odd = []\n",
    "num = int(input(\"Input the number of elements to be stored in the array :- \"))\n",
    "for i in range(0, num + 1):\n",
    "    value = int(input(\"Element %d:- \" %i))\n",
    "    Alist.append(value)\n",
    "for j in range(num):\n",
    "    if(Alist[j] % 2 == 0):\n",
    "        Even.append(Alist[j])\n",
    "    else:\n",
    "        Odd.append(Alist[j])\n",
    "print(\"The even elements are : \", Even)\n",
    "print(\"The odd element are : \", Odd)"
   ]
  },
  {
   "cell_type": "markdown",
   "id": "7ede2574",
   "metadata": {},
   "source": [
    "# Question 5\n",
    "\n",
    "## a. Write a function inside(x,y,x1,y1,x2,y2) that returns True or False depending on whether the point (x,y) lies in the rectangle with lower left corner (x1,y1) and upper right corner (x2,y2)."
   ]
  },
  {
   "cell_type": "code",
   "execution_count": null,
   "id": "f10fa6ea",
   "metadata": {},
   "outputs": [],
   "source": []
  },
  {
   "cell_type": "markdown",
   "id": "6c648dac",
   "metadata": {},
   "source": [
    "## b. Use function inside() from part a. to write an expression that tests whether the point (1,1) lies in both of the following rectangles: one with lower left corner (0.3, 0.5) and upper right corner (1.1, 0.7) and the other with lower left corner (0.5, 0.2) and upper right corner (1.1, 2)."
   ]
  },
  {
   "cell_type": "code",
   "execution_count": null,
   "id": "479cc75f",
   "metadata": {},
   "outputs": [],
   "source": []
  },
  {
   "cell_type": "markdown",
   "id": "9f5d87c0",
   "metadata": {},
   "source": [
    "# Queastion 6\n",
    "## You can turn a word into pig-Latin using the following two rules (simplified):\n",
    "## • If the word starts with a consonant, move that letter to the end and append 'ay'. For example, 'happy' becomes 'appyhay' and 'pencil' becomes 'encilpay'.\n",
    "## • If the word starts with a vowel, simply append 'way' to the end of the word.\n",
    "## For example, 'enter' becomes 'enterway' and 'other' becomes 'otherway' . For our purposes, there are 5 vowels: a, e, i, o, u (so we count y as a consonant).\n",
    "## Write a function pig() that takes a word (i.e., a string) as input and returns its pigLatin form. Your function should still work if the input word contains upper case characters. Your output should always be lower case however."
   ]
  },
  {
   "cell_type": "code",
   "execution_count": 68,
   "id": "357c9e08",
   "metadata": {},
   "outputs": [
    {
     "name": "stdout",
     "output_type": "stream",
     "text": [
      "Enter a Something: happy\n",
      "Pig Latin:  appyhay\n"
     ]
    }
   ],
   "source": [
    "something = input('Enter a Something: ').lower()\n",
    "X = something.split()\n",
    "for i, W in enumerate(X):\n",
    "    if W[0] in 'aeiou':\n",
    "        X[i] = X[i]+ \"way\"\n",
    "    else:\n",
    "        vowel = False\n",
    "        for j, letter in enumerate(W):\n",
    "            if letter in 'aeiou':\n",
    "                X[i] = W[j:] + W[:j] + \"ay\"\n",
    "                vowel = True\n",
    "                break\n",
    "        if(vowel == False):\n",
    "            X[i] = X[i]+ \"ay\"\n",
    "\n",
    "pig_latin = ' '.join(X)\n",
    "print(\"Pig Latin: \",pig_latin)"
   ]
  },
  {
   "cell_type": "markdown",
   "id": "b6992b43",
   "metadata": {},
   "source": [
    "# Question 7\n",
    "## File bloodtype1.txt records blood-types of patients (A, B, AB, O or OO) at a clinic. Write a function bldcount() that reads the file with name name and reports (i.e., prints) how many patients there are in each bloodtype."
   ]
  },
  {
   "cell_type": "code",
   "execution_count": null,
   "id": "12d3714f",
   "metadata": {},
   "outputs": [],
   "source": []
  },
  {
   "cell_type": "markdown",
   "id": "0aabae16",
   "metadata": {},
   "source": [
    "# Question 8\n",
    "## Write a function curconv() that takes as input:\n",
    "## 1. a currency represented using a string (e.g., 'JPY' for the Japanese Yen or 'EUR' for the Euro)\n",
    "## 2. an amount and then converts and returns the amount in US dollars."
   ]
  },
  {
   "cell_type": "code",
   "execution_count": 67,
   "id": "ee1d30dd",
   "metadata": {},
   "outputs": [],
   "source": []
  },
  {
   "cell_type": "markdown",
   "id": "b3d76b0c",
   "metadata": {},
   "source": [
    "# Question 9\n",
    "## Each of the following will cause an exception (an error). Identify what type of exception each will cause.\n",
    "### Trying to add incompatible variables, as inadding 6 + ‘a’\n"
   ]
  },
  {
   "cell_type": "code",
   "execution_count": 28,
   "id": "9fc20468",
   "metadata": {},
   "outputs": [
    {
     "ename": "TypeError",
     "evalue": "unsupported operand type(s) for +: 'int' and 'str'",
     "output_type": "error",
     "traceback": [
      "\u001b[1;31m---------------------------------------------------------------------------\u001b[0m",
      "\u001b[1;31mTypeError\u001b[0m                                 Traceback (most recent call last)",
      "Input \u001b[1;32mIn [28]\u001b[0m, in \u001b[0;36m<cell line: 1>\u001b[1;34m()\u001b[0m\n\u001b[1;32m----> 1\u001b[0m \u001b[38;5;28mprint\u001b[39m(\u001b[38;5;241;43m6\u001b[39;49m\u001b[38;5;241;43m+\u001b[39;49m\u001b[38;5;124;43m'\u001b[39;49m\u001b[38;5;124;43ma\u001b[39;49m\u001b[38;5;124;43m'\u001b[39;49m)\n",
      "\u001b[1;31mTypeError\u001b[0m: unsupported operand type(s) for +: 'int' and 'str'"
     ]
    }
   ],
   "source": [
    "print(6+'a')"
   ]
  },
  {
   "cell_type": "markdown",
   "id": "3abe52f6",
   "metadata": {},
   "source": [
    "### Referring to the 12th item of a list that has only 10 items\n"
   ]
  },
  {
   "cell_type": "code",
   "execution_count": 49,
   "id": "4da0dc8c",
   "metadata": {},
   "outputs": [
    {
     "ename": "IndexError",
     "evalue": "list index out of range",
     "output_type": "error",
     "traceback": [
      "\u001b[1;31m---------------------------------------------------------------------------\u001b[0m",
      "\u001b[1;31mIndexError\u001b[0m                                Traceback (most recent call last)",
      "Input \u001b[1;32mIn [49]\u001b[0m, in \u001b[0;36m<cell line: 2>\u001b[1;34m()\u001b[0m\n\u001b[0;32m      1\u001b[0m a \u001b[38;5;241m=\u001b[39m [\u001b[38;5;241m65\u001b[39m,\u001b[38;5;241m6\u001b[39m,\u001b[38;5;241m32\u001b[39m,\u001b[38;5;241m76\u001b[39m,\u001b[38;5;241m87\u001b[39m,\u001b[38;5;241m98\u001b[39m,\u001b[38;5;241m10\u001b[39m,\u001b[38;5;241m78\u001b[39m,\u001b[38;5;241m8\u001b[39m,\u001b[38;5;241m44\u001b[39m]\n\u001b[1;32m----> 2\u001b[0m \u001b[38;5;28mprint\u001b[39m(\u001b[43ma\u001b[49m\u001b[43m[\u001b[49m\u001b[38;5;241;43m12\u001b[39;49m\u001b[43m]\u001b[49m)\n",
      "\u001b[1;31mIndexError\u001b[0m: list index out of range"
     ]
    }
   ],
   "source": [
    "a = [65,6,32,76,87,98,10,78,8,44]\n",
    "print(a[12])"
   ]
  },
  {
   "cell_type": "markdown",
   "id": "aba0fcb4",
   "metadata": {},
   "source": [
    "### Using a value that is out of range for a function’s input, such as calling math.sqrt(-1.0)"
   ]
  },
  {
   "cell_type": "code",
   "execution_count": 33,
   "id": "03113689",
   "metadata": {},
   "outputs": [
    {
     "ename": "ValueError",
     "evalue": "math domain error",
     "output_type": "error",
     "traceback": [
      "\u001b[1;31m---------------------------------------------------------------------------\u001b[0m",
      "\u001b[1;31mValueError\u001b[0m                                Traceback (most recent call last)",
      "Input \u001b[1;32mIn [33]\u001b[0m, in \u001b[0;36m<cell line: 2>\u001b[1;34m()\u001b[0m\n\u001b[0;32m      1\u001b[0m \u001b[38;5;28;01mimport\u001b[39;00m \u001b[38;5;21;01mmath\u001b[39;00m\n\u001b[1;32m----> 2\u001b[0m \u001b[43mmath\u001b[49m\u001b[38;5;241;43m.\u001b[39;49m\u001b[43msqrt\u001b[49m\u001b[43m(\u001b[49m\u001b[38;5;241;43m-\u001b[39;49m\u001b[38;5;241;43m1.0\u001b[39;49m\u001b[43m)\u001b[49m\n",
      "\u001b[1;31mValueError\u001b[0m: math domain error"
     ]
    }
   ],
   "source": [
    "import math\n",
    "math.sqrt(-1.0)"
   ]
  },
  {
   "cell_type": "markdown",
   "id": "79d8ae02",
   "metadata": {},
   "source": [
    "### Using an undeclared variable, such as print(x) when x has not been defined"
   ]
  },
  {
   "cell_type": "code",
   "execution_count": 36,
   "id": "4eeb4762",
   "metadata": {},
   "outputs": [
    {
     "ename": "NameError",
     "evalue": "name 'yu' is not defined",
     "output_type": "error",
     "traceback": [
      "\u001b[1;31m---------------------------------------------------------------------------\u001b[0m",
      "\u001b[1;31mNameError\u001b[0m                                 Traceback (most recent call last)",
      "Input \u001b[1;32mIn [36]\u001b[0m, in \u001b[0;36m<cell line: 3>\u001b[1;34m()\u001b[0m\n\u001b[0;32m      1\u001b[0m a\u001b[38;5;241m=\u001b[39m\u001b[38;5;241m45\u001b[39m\n\u001b[0;32m      2\u001b[0m b\u001b[38;5;241m=\u001b[39m\u001b[38;5;241m67\u001b[39m\n\u001b[1;32m----> 3\u001b[0m \u001b[38;5;28mprint\u001b[39m(\u001b[43myu\u001b[49m)\n",
      "\u001b[1;31mNameError\u001b[0m: name 'yu' is not defined"
     ]
    }
   ],
   "source": [
    "a=45\n",
    "b=67\n",
    "print(yu)"
   ]
  },
  {
   "cell_type": "markdown",
   "id": "f73c1c36",
   "metadata": {},
   "source": [
    "### Trying to open a file that does not exist, such as mistyping the file name or looking in the wrong directory. "
   ]
  },
  {
   "cell_type": "code",
   "execution_count": 41,
   "id": "cb02f6e4",
   "metadata": {},
   "outputs": [
    {
     "ename": "IndentationError",
     "evalue": "expected an indented block (3876635872.py, line 5)",
     "output_type": "error",
     "traceback": [
      "\u001b[1;36m  Input \u001b[1;32mIn [41]\u001b[1;36m\u001b[0m\n\u001b[1;33m    with open(filename, 'w'):\u001b[0m\n\u001b[1;37m                             ^\u001b[0m\n\u001b[1;31mIndentationError\u001b[0m\u001b[1;31m:\u001b[0m expected an indented block\n"
     ]
    }
   ],
   "source": [
    "filename = ...\n",
    "dirname = os.path.dirname(filename)\n",
    "if not os.path.exists(dirname):\n",
    "    os.makedirs(dirname)\n",
    "with open(filename, 'w'):"
   ]
  },
  {
   "cell_type": "markdown",
   "id": "b5389ddf",
   "metadata": {},
   "source": [
    "# Question 10\n",
    "## Write a function called frequencies() that takes a string as its only parameter, and returns a list of integers, showing the number of times each character appears in the text. Your function may ignore any characters that are not in letters. "
   ]
  },
  {
   "cell_type": "code",
   "execution_count": 76,
   "id": "64ee3498",
   "metadata": {},
   "outputs": [
    {
     "name": "stdout",
     "output_type": "stream",
     "text": [
      "The count is: 0\n"
     ]
    }
   ],
   "source": [
    "# define string\n",
    "string = 'The quick red fox got bored and went home'\n",
    "substring = 'abcdefghijklmnopqrstuvwxyz'\n",
    "\n",
    "a = string.count(substring)\n",
    "\n",
    "print(\"The count is:\", a)"
   ]
  },
  {
   "cell_type": "code",
   "execution_count": null,
   "id": "d73ee088",
   "metadata": {},
   "outputs": [],
   "source": []
  }
 ],
 "metadata": {
  "kernelspec": {
   "display_name": "Python 3 (ipykernel)",
   "language": "python",
   "name": "python3"
  },
  "language_info": {
   "codemirror_mode": {
    "name": "ipython",
    "version": 3
   },
   "file_extension": ".py",
   "mimetype": "text/x-python",
   "name": "python",
   "nbconvert_exporter": "python",
   "pygments_lexer": "ipython3",
   "version": "3.9.12"
  }
 },
 "nbformat": 4,
 "nbformat_minor": 5
}
